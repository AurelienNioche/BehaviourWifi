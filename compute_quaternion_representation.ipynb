{
 "cells": [
  {
   "cell_type": "code",
   "execution_count": 2,
   "id": "initial_id",
   "metadata": {
    "collapsed": true,
    "ExecuteTime": {
     "end_time": "2023-11-07T15:37:08.403338Z",
     "start_time": "2023-11-07T15:37:08.394089Z"
    }
   },
   "outputs": [],
   "source": [
    "import torch\n",
    "from pytorch3d.transforms import quaternion_invert, quaternion_apply, axis_angle_to_quaternion"
   ]
  },
  {
   "cell_type": "code",
   "execution_count": 4,
   "outputs": [
    {
     "name": "stdout",
     "output_type": "stream",
     "text": [
      "A tensor([1., 5., 3.])\n",
      "B tensor([4., 3., 6.])\n",
      "A transformed into B: tensor([4., 3., 6.])\n",
      "B transformed into A: tensor([1.0000, 5.0000, 3.0000])\n"
     ]
    }
   ],
   "source": [
    "# Let's assume A and B are 3D points\n",
    "A = torch.tensor([1.0, 5.0, 3.0])\n",
    "B = torch.tensor([4.0, 3.0, 6.0])\n",
    "\n",
    "print(\"A\", A)\n",
    "print(\"B\", B)\n",
    "\n",
    "normalized_A, normalized_B = A / torch.norm(A), B / torch.norm(B)\n",
    "\n",
    "# Calculate the axis of rotation\n",
    "axis = torch.cross(normalized_A, normalized_B)\n",
    "axis = axis / torch.norm(axis)\n",
    "\n",
    "# The angle of rotation is the arccosine of the dot product of the normalized vectors\n",
    "angle_of_rotation = torch.acos(torch.dot(normalized_A, normalized_B))\n",
    "\n",
    "# The axis-angle representation is the axis of rotation scaled by the angle of rotation\n",
    "axis_angle = axis * angle_of_rotation\n",
    "\n",
    "# Convert the axis-angle representation to a quaternion\n",
    "rotation = axis_angle_to_quaternion(axis_angle)\n",
    "\n",
    "# Apply the rotation to point A\n",
    "A_rotated = quaternion_apply(rotation, A)\n",
    "\n",
    "# Compute the translation vector\n",
    "translation = B - A_rotated\n",
    "\n",
    "# Apply the translation to point A\n",
    "A_transformed = A_rotated + translation\n",
    "\n",
    "print(\"A transformed into B:\", A_transformed)\n",
    "\n",
    "# Compute the inverse rotation and translation\n",
    "inverse_rotation = quaternion_invert(rotation)\n",
    "inverse_translation = -translation\n",
    "\n",
    "# Apply the inverse transformation: from B, recover A\n",
    "B_transformed = B.clone()\n",
    "B_transformed += inverse_translation # Apply inverse translation\n",
    "B_transformed = quaternion_apply(inverse_rotation, B_transformed)  # Apply inverse rotation\n",
    "\n",
    "print(\"B transformed into A:\", B_transformed)"
   ],
   "metadata": {
    "collapsed": false,
    "ExecuteTime": {
     "end_time": "2023-11-07T15:39:29.904746Z",
     "start_time": "2023-11-07T15:39:29.891036Z"
    }
   },
   "id": "2d0d4e85edc8ff39"
  },
  {
   "cell_type": "code",
   "execution_count": null,
   "outputs": [],
   "source": [],
   "metadata": {
    "collapsed": false
   },
   "id": "9ec7295d14df7315"
  }
 ],
 "metadata": {
  "kernelspec": {
   "display_name": "Python 3",
   "language": "python",
   "name": "python3"
  },
  "language_info": {
   "codemirror_mode": {
    "name": "ipython",
    "version": 2
   },
   "file_extension": ".py",
   "mimetype": "text/x-python",
   "name": "python",
   "nbconvert_exporter": "python",
   "pygments_lexer": "ipython2",
   "version": "2.7.6"
  }
 },
 "nbformat": 4,
 "nbformat_minor": 5
}
