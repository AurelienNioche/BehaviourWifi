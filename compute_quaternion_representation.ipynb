{
 "cells": [
  {
   "cell_type": "code",
   "execution_count": 1,
   "id": "initial_id",
   "metadata": {
    "collapsed": true,
    "ExecuteTime": {
     "end_time": "2023-11-08T15:29:00.024122Z",
     "start_time": "2023-11-08T15:28:58.603320Z"
    }
   },
   "outputs": [],
   "source": [
    "import numpy as np\n",
    "import torch\n",
    "from pytorch3d.transforms import quaternion_invert, quaternion_apply, axis_angle_to_quaternion"
   ]
  },
  {
   "cell_type": "markdown",
   "source": [
    "# Two points only"
   ],
   "metadata": {
    "collapsed": false
   },
   "id": "cff3937e46c779ea"
  },
  {
   "cell_type": "code",
   "execution_count": 6,
   "outputs": [
    {
     "name": "stdout",
     "output_type": "stream",
     "text": [
      "A tensor([1., 5., 3.])\n",
      "B tensor([4., 3., 6.])\n",
      "A transformed into B: tensor([4., 3., 6.])\n",
      "B transformed into A: tensor([1.0000, 5.0000, 3.0000])\n"
     ]
    }
   ],
   "source": [
    "# Let's assume A and B are 3D points\n",
    "A = torch.tensor([1.0, 5.0, 3.0])\n",
    "B = torch.tensor([4.0, 3.0, 6.0])\n",
    "\n",
    "print(\"A\", A)\n",
    "print(\"B\", B)\n",
    "\n",
    "normalized_A, normalized_B = A / torch.norm(A), B / torch.norm(B)\n",
    "\n",
    "# Calculate the axis of rotation\n",
    "axis = torch.cross(normalized_A, normalized_B)\n",
    "axis = axis / torch.norm(axis)\n",
    "\n",
    "# The angle of rotation is the arccosine of the dot product of the normalized vectors\n",
    "angle_of_rotation = torch.acos(torch.dot(normalized_A, normalized_B))\n",
    "\n",
    "# The axis-angle representation is the axis of rotation scaled by the angle of rotation\n",
    "axis_angle = axis * angle_of_rotation\n",
    "\n",
    "# Convert the axis-angle representation to a quaternion\n",
    "rotation = axis_angle_to_quaternion(axis_angle)\n",
    "\n",
    "# Apply the rotation to point A\n",
    "A_rotated = quaternion_apply(rotation, A)\n",
    "\n",
    "# Compute the translation vector\n",
    "translation = B - A_rotated\n",
    "\n",
    "# Apply the translation to point A\n",
    "A_transformed = A_rotated + translation\n",
    "\n",
    "print(\"A transformed into B:\", A_transformed)\n",
    "\n",
    "# Compute the inverse rotation and translation\n",
    "inverse_rotation = quaternion_invert(rotation)\n",
    "inverse_translation = -translation\n",
    "\n",
    "# Apply the inverse transformation: from B, recover A\n",
    "B_transformed = B.clone()\n",
    "B_transformed += inverse_translation # Apply inverse translation\n",
    "B_transformed = quaternion_apply(inverse_rotation, B_transformed)  # Apply inverse rotation\n",
    "\n",
    "print(\"B transformed into A:\", B_transformed)"
   ],
   "metadata": {
    "collapsed": false,
    "ExecuteTime": {
     "end_time": "2023-11-08T17:57:09.555457Z",
     "start_time": "2023-11-08T17:57:09.548334Z"
    }
   },
   "id": "2d0d4e85edc8ff39"
  },
  {
   "cell_type": "code",
   "execution_count": 7,
   "outputs": [
    {
     "name": "stdout",
     "output_type": "stream",
     "text": [
      "torch.Size([3])\n"
     ]
    }
   ],
   "source": [
    "print(translation.shape)"
   ],
   "metadata": {
    "collapsed": false,
    "ExecuteTime": {
     "end_time": "2023-11-08T17:57:10.178298Z",
     "start_time": "2023-11-08T17:57:10.173321Z"
    }
   },
   "id": "9bdb1077d5e4e587"
  },
  {
   "cell_type": "markdown",
   "source": [
    "# Mimicking the data structure"
   ],
   "metadata": {
    "collapsed": false
   },
   "id": "a77a8d8e4256b75d"
  },
  {
   "cell_type": "code",
   "execution_count": 10,
   "outputs": [
    {
     "name": "stdout",
     "output_type": "stream",
     "text": [
      "A tensor([[7., 2., 7.],\n",
      "        [9., 1., 0.],\n",
      "        [6., 5., 3.],\n",
      "        [4., 1., 1.]])\n",
      "B tensor([[[9., 5., 0.],\n",
      "         [7., 6., 7.]],\n",
      "\n",
      "        [[2., 3., 9.],\n",
      "         [4., 7., 1.]],\n",
      "\n",
      "        [[1., 7., 1.],\n",
      "         [7., 2., 0.]],\n",
      "\n",
      "        [[9., 0., 0.],\n",
      "         [2., 1., 8.]]])\n",
      "A transformed into B: tensor([9., 5., 0.])\n",
      "A transformed into B: tensor([7., 6., 7.])\n",
      "A transformed into B: tensor([2., 3., 9.])\n",
      "A transformed into B: tensor([4., 7., 1.])\n",
      "A transformed into B: tensor([1., 7., 1.])\n",
      "A transformed into B: tensor([7., 2., 0.])\n",
      "A transformed into B: tensor([9., 0., 0.])\n",
      "A transformed into B: tensor([2., 1., 8.])\n"
     ]
    }
   ],
   "source": [
    "import numpy as np\n",
    "import torch\n",
    "from pytorch3d.transforms import quaternion_apply, axis_angle_to_quaternion\n",
    "\n",
    "n_obs = 4\n",
    "n_joints = 2\n",
    "\n",
    "all_A = torch.from_numpy(np.random.randint(0, 10, size=((n_obs, 3)))).float()\n",
    "all_B = torch.from_numpy(np.random.randint(0, 10, size=((n_obs, n_joints, 3)))).float()\n",
    "\n",
    "print(\"A\", all_A)\n",
    "print(\"B\", all_B)\n",
    "\n",
    "transformations = torch.zeros((n_obs, n_joints, 7))\n",
    "\n",
    "for i in range(n_obs):\n",
    "    A = all_A[i]\n",
    "    for j in range(n_joints):\n",
    "        B = all_B[i, j]\n",
    "        normalized_A, normalized_B = A / torch.norm(A), B / torch.norm(B)\n",
    "        \n",
    "        # Calculate the axis of rotation\n",
    "        axis = torch.cross(normalized_A, normalized_B)\n",
    "        axis = axis / torch.norm(axis)\n",
    "        \n",
    "        # The angle of rotation is the arccosine of the dot product of the normalized vectors\n",
    "        angle_of_rotation = torch.acos(torch.dot(normalized_A, normalized_B))\n",
    "        \n",
    "        # The axis-angle representation is the axis of rotation scaled by the angle of rotation\n",
    "        axis_angle = axis * angle_of_rotation\n",
    "        \n",
    "        # Convert the axis-angle representation to a quaternion\n",
    "        rotation = axis_angle_to_quaternion(axis_angle)\n",
    "        \n",
    "        # Apply the rotation to point A\n",
    "        A_rotated = quaternion_apply(rotation, A)\n",
    "        \n",
    "        # Compute the translation vector\n",
    "        translation = B - A_rotated\n",
    "        \n",
    "        # Apply the translation to point A\n",
    "        A_transformed = A_rotated + translation\n",
    "        \n",
    "        print(\"A transformed into B:\", A_transformed)\n",
    "        \n",
    "        transformations[i, j] = torch.cat((rotation, translation))"
   ],
   "metadata": {
    "collapsed": false,
    "ExecuteTime": {
     "end_time": "2023-11-08T17:58:00.954573Z",
     "start_time": "2023-11-08T17:58:00.946309Z"
    }
   },
   "id": "9ec7295d14df7315"
  },
  {
   "cell_type": "markdown",
   "source": [
    "# Vectorising the operations"
   ],
   "metadata": {
    "collapsed": false
   },
   "id": "b15d2e7b5004056d"
  },
  {
   "cell_type": "code",
   "execution_count": 14,
   "outputs": [
    {
     "name": "stdout",
     "output_type": "stream",
     "text": [
      "A transformed into B:\n",
      "tensor([[[9., 5., 0.],\n",
      "         [7., 6., 7.]],\n",
      "\n",
      "        [[2., 3., 9.],\n",
      "         [4., 7., 1.]],\n",
      "\n",
      "        [[1., 7., 1.],\n",
      "         [7., 2., 0.]],\n",
      "\n",
      "        [[9., 0., 0.],\n",
      "         [2., 1., 8.]]])\n"
     ]
    }
   ],
   "source": [
    "# Normalize A and B\n",
    "normalized_A = all_A / torch.norm(all_A, dim=-1, keepdim=True)\n",
    "normalized_B = all_B / torch.norm(all_B, dim=-1, keepdim=True)\n",
    "\n",
    "# Calculate the axis of rotation\n",
    "axis = torch.cross(normalized_A.unsqueeze(1), normalized_B)\n",
    "axis = axis / torch.norm(axis, dim=-1, keepdim=True)\n",
    "\n",
    "# The angle of rotation is the arccosine of the dot product of the normalized vectors\n",
    "angle_of_rotation = torch.acos((normalized_A.unsqueeze(1) * normalized_B).sum(-1))\n",
    "\n",
    "# The axis-angle representation is the axis of rotation scaled by the angle of rotation\n",
    "axis_angle = axis * angle_of_rotation.unsqueeze(-1)\n",
    "\n",
    "# Convert the axis-angle representation to a quaternion\n",
    "rotation = axis_angle_to_quaternion(axis_angle)\n",
    "\n",
    "# Apply the rotation to point A\n",
    "A_rotated = quaternion_apply(rotation, all_A.unsqueeze(1).expand(-1, n_joints, -1))\n",
    "\n",
    "# Compute the translation vector\n",
    "translation = all_B - A_rotated\n",
    "\n",
    "# Apply the translation to point A\n",
    "A_transformed = A_rotated + translation\n",
    "\n",
    "print(\"A transformed into B:\")\n",
    "print(A_transformed)\n",
    "\n",
    "transformations = torch.cat((rotation, translation), dim=-1)"
   ],
   "metadata": {
    "collapsed": false,
    "ExecuteTime": {
     "end_time": "2023-11-08T18:05:54.877927Z",
     "start_time": "2023-11-08T18:05:54.873569Z"
    }
   },
   "id": "46b892060d3e884"
  },
  {
   "cell_type": "code",
   "execution_count": null,
   "outputs": [],
   "source": [],
   "metadata": {
    "collapsed": false
   },
   "id": "72883807eb88c02b"
  }
 ],
 "metadata": {
  "kernelspec": {
   "display_name": "Python 3",
   "language": "python",
   "name": "python3"
  },
  "language_info": {
   "codemirror_mode": {
    "name": "ipython",
    "version": 2
   },
   "file_extension": ".py",
   "mimetype": "text/x-python",
   "name": "python",
   "nbconvert_exporter": "python",
   "pygments_lexer": "ipython2",
   "version": "2.7.6"
  }
 },
 "nbformat": 4,
 "nbformat_minor": 5
}
