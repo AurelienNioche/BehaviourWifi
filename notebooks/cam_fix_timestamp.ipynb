{
 "cells": [
  {
   "cell_type": "code",
   "execution_count": 1,
   "outputs": [],
   "source": [
    "%load_ext autoreload\n",
    "%autoreload 2\n",
    "import numpy as np\n",
    "import pandas as pd\n",
    "import datetime\n",
    "import glob\n",
    "import re\n",
    "from preprocess.preprocess import make_joint_dataset"
   ],
   "metadata": {
    "collapsed": false,
    "ExecuteTime": {
     "end_time": "2023-12-04T12:15:07.661963Z",
     "start_time": "2023-12-04T12:15:06.033286Z"
    }
   },
   "id": "df3ad7d571d7c554"
  },
  {
   "cell_type": "code",
   "execution_count": 14,
   "outputs": [],
   "source": [
    "data_folder = \"../data/william-data/\" # \"/Volumes/Crucial X8/csi_depth_camera/data\""
   ],
   "metadata": {
    "collapsed": false,
    "ExecuteTime": {
     "end_time": "2023-12-04T12:21:00.001111Z",
     "start_time": "2023-12-04T12:20:59.982733Z"
    }
   },
   "id": "initial_id"
  },
  {
   "cell_type": "code",
   "execution_count": 15,
   "outputs": [
    {
     "name": "stdout",
     "output_type": "stream",
     "text": [
      "number of files: 22\n"
     ]
    }
   ],
   "source": [
    "camera_files = []\n",
    "runs = glob.glob(f\"{data_folder}/run_10\")\n",
    "for r in runs:\n",
    "    labels = glob.glob(f\"{r}/processed/labelled/camera/joints/sit_stand/front/*\")\n",
    "    for lb in labels:\n",
    "        camera_files += glob.glob(f\"{lb}/*\")\n",
    "\n",
    "print(\"number of files:\", len(camera_files))"
   ],
   "metadata": {
    "collapsed": false,
    "ExecuteTime": {
     "end_time": "2023-12-04T12:21:00.503537Z",
     "start_time": "2023-12-04T12:21:00.488368Z"
    }
   },
   "id": "7e8351dce594359e"
  },
  {
   "cell_type": "code",
   "execution_count": 16,
   "outputs": [
    {
     "name": "stdout",
     "output_type": "stream",
     "text": [
      "ref timestamp 1699441591.2377343\n"
     ]
    }
   ],
   "source": [
    "r = f\"{data_folder}/run_10\"\n",
    "with open(glob.glob(f\"{r}/raw/camera/timestamp*sit_stand.txt\")[0], \"r\") as f:\n",
    "    ref_timestamp = float(f.readlines()[0])\n",
    "print(\"ref timestamp\", ref_timestamp)"
   ],
   "metadata": {
    "collapsed": false,
    "ExecuteTime": {
     "end_time": "2023-12-04T12:21:01.132818Z",
     "start_time": "2023-12-04T12:21:01.115327Z"
    }
   },
   "id": "38be4a1120fb2b94"
  },
  {
   "cell_type": "code",
   "execution_count": 17,
   "outputs": [
    {
     "name": "stdout",
     "output_type": "stream",
     "text": [
      "../data/william-data//run_10/processed/labelled/camera/joints/sit_stand/front/sit/movement_2.csv\n"
     ]
    }
   ],
   "source": [
    "joint_names = None\n",
    "xs = []\n",
    "for f in camera_files:\n",
    "    # \"data/unlabelled/camera/joints/front_sit_stand.csv\"\n",
    "    df_cam = pd.read_csv(\n",
    "        f, names=[\"frame_id\", \"timestamp\", \"joint_name\", \"x\", \"y\", \"z\"])\n",
    "    if len(df_cam):\n",
    "        break\n",
    "\n",
    "print(f)"
   ],
   "metadata": {
    "collapsed": false,
    "ExecuteTime": {
     "end_time": "2023-12-04T12:21:01.751031Z",
     "start_time": "2023-12-04T12:21:01.729839Z"
    }
   },
   "id": "d4560061766562a"
  },
  {
   "cell_type": "code",
   "execution_count": 18,
   "outputs": [
    {
     "data": {
      "text/plain": "      frame_id  timestamp     joint_name           x           y            z  \\\n0         1298   45901900         PELVIS  140.783722 -170.965088  1794.119141   \n1         1298   45901900    SPINE_NAVEL  147.788025 -355.249878  1761.605103   \n2         1298   45901900    SPINE_CHEST  154.152863 -504.699280  1755.560547   \n3         1298   45901900           NECK  161.181580 -732.079163  1742.160400   \n4         1298   45901900  CLAVICLE_LEFT  195.403839 -693.712097  1744.089722   \n...        ...        ...            ...         ...         ...          ...   \n4858      1449   50935233           HEAD  195.828201 -318.641846  2135.279541   \n4859      1449   50935233           NOSE  153.464539 -297.932556  1998.470337   \n4860      1449   50935233       EYE_LEFT  188.442856 -333.306335  2006.590088   \n4861      1449   50935233       EAR_LEFT  269.112793 -351.000153  2085.410889   \n4862      1449   50935233      EYE_RIGHT  142.882782 -339.460388  2016.753662   \n\n                           time  \n0    2023-11-08 11:06:35.827924  \n1    2023-11-08 11:06:35.827924  \n2    2023-11-08 11:06:35.827924  \n3    2023-11-08 11:06:35.827924  \n4    2023-11-08 11:06:35.827924  \n...                         ...  \n4858 2023-11-08 11:06:36.331258  \n4859 2023-11-08 11:06:36.331258  \n4860 2023-11-08 11:06:36.331258  \n4861 2023-11-08 11:06:36.331258  \n4862 2023-11-08 11:06:36.331258  \n\n[4863 rows x 7 columns]",
      "text/html": "<div>\n<style scoped>\n    .dataframe tbody tr th:only-of-type {\n        vertical-align: middle;\n    }\n\n    .dataframe tbody tr th {\n        vertical-align: top;\n    }\n\n    .dataframe thead th {\n        text-align: right;\n    }\n</style>\n<table border=\"1\" class=\"dataframe\">\n  <thead>\n    <tr style=\"text-align: right;\">\n      <th></th>\n      <th>frame_id</th>\n      <th>timestamp</th>\n      <th>joint_name</th>\n      <th>x</th>\n      <th>y</th>\n      <th>z</th>\n      <th>time</th>\n    </tr>\n  </thead>\n  <tbody>\n    <tr>\n      <th>0</th>\n      <td>1298</td>\n      <td>45901900</td>\n      <td>PELVIS</td>\n      <td>140.783722</td>\n      <td>-170.965088</td>\n      <td>1794.119141</td>\n      <td>2023-11-08 11:06:35.827924</td>\n    </tr>\n    <tr>\n      <th>1</th>\n      <td>1298</td>\n      <td>45901900</td>\n      <td>SPINE_NAVEL</td>\n      <td>147.788025</td>\n      <td>-355.249878</td>\n      <td>1761.605103</td>\n      <td>2023-11-08 11:06:35.827924</td>\n    </tr>\n    <tr>\n      <th>2</th>\n      <td>1298</td>\n      <td>45901900</td>\n      <td>SPINE_CHEST</td>\n      <td>154.152863</td>\n      <td>-504.699280</td>\n      <td>1755.560547</td>\n      <td>2023-11-08 11:06:35.827924</td>\n    </tr>\n    <tr>\n      <th>3</th>\n      <td>1298</td>\n      <td>45901900</td>\n      <td>NECK</td>\n      <td>161.181580</td>\n      <td>-732.079163</td>\n      <td>1742.160400</td>\n      <td>2023-11-08 11:06:35.827924</td>\n    </tr>\n    <tr>\n      <th>4</th>\n      <td>1298</td>\n      <td>45901900</td>\n      <td>CLAVICLE_LEFT</td>\n      <td>195.403839</td>\n      <td>-693.712097</td>\n      <td>1744.089722</td>\n      <td>2023-11-08 11:06:35.827924</td>\n    </tr>\n    <tr>\n      <th>...</th>\n      <td>...</td>\n      <td>...</td>\n      <td>...</td>\n      <td>...</td>\n      <td>...</td>\n      <td>...</td>\n      <td>...</td>\n    </tr>\n    <tr>\n      <th>4858</th>\n      <td>1449</td>\n      <td>50935233</td>\n      <td>HEAD</td>\n      <td>195.828201</td>\n      <td>-318.641846</td>\n      <td>2135.279541</td>\n      <td>2023-11-08 11:06:36.331258</td>\n    </tr>\n    <tr>\n      <th>4859</th>\n      <td>1449</td>\n      <td>50935233</td>\n      <td>NOSE</td>\n      <td>153.464539</td>\n      <td>-297.932556</td>\n      <td>1998.470337</td>\n      <td>2023-11-08 11:06:36.331258</td>\n    </tr>\n    <tr>\n      <th>4860</th>\n      <td>1449</td>\n      <td>50935233</td>\n      <td>EYE_LEFT</td>\n      <td>188.442856</td>\n      <td>-333.306335</td>\n      <td>2006.590088</td>\n      <td>2023-11-08 11:06:36.331258</td>\n    </tr>\n    <tr>\n      <th>4861</th>\n      <td>1449</td>\n      <td>50935233</td>\n      <td>EAR_LEFT</td>\n      <td>269.112793</td>\n      <td>-351.000153</td>\n      <td>2085.410889</td>\n      <td>2023-11-08 11:06:36.331258</td>\n    </tr>\n    <tr>\n      <th>4862</th>\n      <td>1449</td>\n      <td>50935233</td>\n      <td>EYE_RIGHT</td>\n      <td>142.882782</td>\n      <td>-339.460388</td>\n      <td>2016.753662</td>\n      <td>2023-11-08 11:06:36.331258</td>\n    </tr>\n  </tbody>\n</table>\n<p>4863 rows × 7 columns</p>\n</div>"
     },
     "execution_count": 18,
     "metadata": {},
     "output_type": "execute_result"
    }
   ],
   "source": [
    "df_cam[\"time\"] = df_cam[\"timestamp\"].apply(lambda x: datetime.datetime.fromtimestamp(x/10e6 +ref_timestamp))\n",
    "df_cam"
   ],
   "metadata": {
    "collapsed": false,
    "ExecuteTime": {
     "end_time": "2023-12-04T12:21:02.340013Z",
     "start_time": "2023-12-04T12:21:02.316895Z"
    }
   },
   "id": "fd49f2f2b92ff3e0"
  },
  {
   "cell_type": "code",
   "execution_count": null,
   "outputs": [],
   "source": [],
   "metadata": {
    "collapsed": false
   },
   "id": "768a6abd0c09cbaa"
  }
 ],
 "metadata": {
  "kernelspec": {
   "display_name": "Python 3",
   "language": "python",
   "name": "python3"
  },
  "language_info": {
   "codemirror_mode": {
    "name": "ipython",
    "version": 2
   },
   "file_extension": ".py",
   "mimetype": "text/x-python",
   "name": "python",
   "nbconvert_exporter": "python",
   "pygments_lexer": "ipython2",
   "version": "2.7.6"
  }
 },
 "nbformat": 4,
 "nbformat_minor": 5
}
