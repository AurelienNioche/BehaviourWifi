{
 "cells": [
  {
   "cell_type": "code",
   "execution_count": 45,
   "outputs": [],
   "source": [
    "%matplotlib inline\n",
    "import matplotlib.animation\n",
    "import matplotlib.pyplot as plt\n",
    "from IPython.display import HTML\n",
    "import json\n",
    "import numpy as np\n",
    "import pandas as pd"
   ],
   "metadata": {
    "collapsed": false,
    "ExecuteTime": {
     "end_time": "2023-11-01T15:05:49.950271Z",
     "start_time": "2023-11-01T15:05:49.946321Z"
    }
   },
   "id": "7445a49950fc018a"
  },
  {
   "cell_type": "markdown",
   "source": [
    "# Load the data"
   ],
   "metadata": {
    "collapsed": false
   },
   "id": "adb30c04c22889aa"
  },
  {
   "cell_type": "code",
   "execution_count": 46,
   "outputs": [
    {
     "data": {
      "text/plain": "0     timestamp amplitude     phase\n1  1698153140.0 -0.003162 -1.815357\n2  1698153140.0 -0.002926 -9.610022\n3  1698153140.0 -0.003282   3.69998\n4  1698153140.0 -0.003283   0.41413\n5  1698153140.0 -0.003103  9.832106",
      "text/html": "<div>\n<style scoped>\n    .dataframe tbody tr th:only-of-type {\n        vertical-align: middle;\n    }\n\n    .dataframe tbody tr th {\n        vertical-align: top;\n    }\n\n    .dataframe thead th {\n        text-align: right;\n    }\n</style>\n<table border=\"1\" class=\"dataframe\">\n  <thead>\n    <tr style=\"text-align: right;\">\n      <th></th>\n      <th>timestamp</th>\n      <th>amplitude</th>\n      <th>phase</th>\n    </tr>\n  </thead>\n  <tbody>\n    <tr>\n      <th>1</th>\n      <td>1698153140.0</td>\n      <td>-0.003162</td>\n      <td>-1.815357</td>\n    </tr>\n    <tr>\n      <th>2</th>\n      <td>1698153140.0</td>\n      <td>-0.002926</td>\n      <td>-9.610022</td>\n    </tr>\n    <tr>\n      <th>3</th>\n      <td>1698153140.0</td>\n      <td>-0.003282</td>\n      <td>3.69998</td>\n    </tr>\n    <tr>\n      <th>4</th>\n      <td>1698153140.0</td>\n      <td>-0.003283</td>\n      <td>0.41413</td>\n    </tr>\n    <tr>\n      <th>5</th>\n      <td>1698153140.0</td>\n      <td>-0.003103</td>\n      <td>9.832106</td>\n    </tr>\n  </tbody>\n</table>\n</div>"
     },
     "execution_count": 46,
     "metadata": {},
     "output_type": "execute_result"
    }
   ],
   "source": [
    "with open(\"data/unlabelled/csi/clap/rx1_tx1/1_clap.csv\") as f:\n",
    "    data = pd.read_csv(f, header=None).transpose()\n",
    "    data.columns = data.iloc[0]\n",
    "    data = data.iloc[1:]\n",
    "\n",
    "data.head()"
   ],
   "metadata": {
    "collapsed": false,
    "ExecuteTime": {
     "end_time": "2023-11-01T15:05:51.384320Z",
     "start_time": "2023-11-01T15:05:51.340072Z"
    }
   },
   "id": "eeac0ebc1346d3c2"
  },
  {
   "cell_type": "code",
   "execution_count": 47,
   "outputs": [
    {
     "name": "stdout",
     "output_type": "stream",
     "text": [
      "[1698153140.0 1698153141.0 1698153142.0 1698153143.0 1698153144.0\n",
      " 1698153145.0]\n"
     ]
    }
   ],
   "source": [
    "print(data.timestamp.unique())"
   ],
   "metadata": {
    "collapsed": false,
    "ExecuteTime": {
     "end_time": "2023-11-01T15:05:51.652490Z",
     "start_time": "2023-11-01T15:05:51.648877Z"
    }
   },
   "id": "bbfb8e0d3df5853c"
  },
  {
   "cell_type": "code",
   "execution_count": 58,
   "outputs": [
    {
     "data": {
      "text/plain": "   frame_id  timestamp_usec     joint_name          x           y            z\n0         0          268566         PELVIS -35.965904  121.446609  2231.891113\n1         0          268566    SPINE_NAVEL -46.754833  -36.169590  2264.973877\n2         0          268566    SPINE_CHEST -54.007175 -164.899796  2259.733398\n3         0          268566           NECK -55.790428 -348.966309  2191.183594\n4         0          268566  CLAVICLE_LEFT -25.078732 -319.862854  2204.463135",
      "text/html": "<div>\n<style scoped>\n    .dataframe tbody tr th:only-of-type {\n        vertical-align: middle;\n    }\n\n    .dataframe tbody tr th {\n        vertical-align: top;\n    }\n\n    .dataframe thead th {\n        text-align: right;\n    }\n</style>\n<table border=\"1\" class=\"dataframe\">\n  <thead>\n    <tr style=\"text-align: right;\">\n      <th></th>\n      <th>frame_id</th>\n      <th>timestamp_usec</th>\n      <th>joint_name</th>\n      <th>x</th>\n      <th>y</th>\n      <th>z</th>\n    </tr>\n  </thead>\n  <tbody>\n    <tr>\n      <th>0</th>\n      <td>0</td>\n      <td>268566</td>\n      <td>PELVIS</td>\n      <td>-35.965904</td>\n      <td>121.446609</td>\n      <td>2231.891113</td>\n    </tr>\n    <tr>\n      <th>1</th>\n      <td>0</td>\n      <td>268566</td>\n      <td>SPINE_NAVEL</td>\n      <td>-46.754833</td>\n      <td>-36.169590</td>\n      <td>2264.973877</td>\n    </tr>\n    <tr>\n      <th>2</th>\n      <td>0</td>\n      <td>268566</td>\n      <td>SPINE_CHEST</td>\n      <td>-54.007175</td>\n      <td>-164.899796</td>\n      <td>2259.733398</td>\n    </tr>\n    <tr>\n      <th>3</th>\n      <td>0</td>\n      <td>268566</td>\n      <td>NECK</td>\n      <td>-55.790428</td>\n      <td>-348.966309</td>\n      <td>2191.183594</td>\n    </tr>\n    <tr>\n      <th>4</th>\n      <td>0</td>\n      <td>268566</td>\n      <td>CLAVICLE_LEFT</td>\n      <td>-25.078732</td>\n      <td>-319.862854</td>\n      <td>2204.463135</td>\n    </tr>\n  </tbody>\n</table>\n</div>"
     },
     "execution_count": 58,
     "metadata": {},
     "output_type": "execute_result"
    }
   ],
   "source": [
    "with open(\"data/unlabelled/camera/joints/front_sit_stand.csv\") as f:\n",
    "    data = pd.read_csv(f, header=0)\n",
    "    data = data.rename(columns={\"x-axis\": \"x\", \"y-axis\": \"y\", \"z-axis\": \"z\", \"joint_names\": \"joint_name\"})\n",
    "\n",
    "data.head()"
   ],
   "metadata": {
    "collapsed": false,
    "ExecuteTime": {
     "end_time": "2023-11-01T15:09:09.560365Z",
     "start_time": "2023-11-01T15:09:09.504629Z"
    }
   },
   "id": "e29b25ef3c349dfe"
  },
  {
   "cell_type": "code",
   "execution_count": 59,
   "outputs": [
    {
     "data": {
      "text/plain": "32"
     },
     "execution_count": 59,
     "metadata": {},
     "output_type": "execute_result"
    }
   ],
   "source": [
    "joint_names = data[\"joint_name\"].unique()\n",
    "joint_names.size"
   ],
   "metadata": {
    "collapsed": false,
    "ExecuteTime": {
     "end_time": "2023-11-01T15:09:12.110488Z",
     "start_time": "2023-11-01T15:09:12.105483Z"
    }
   },
   "id": "2a60c711702d3b8a"
  },
  {
   "cell_type": "code",
   "execution_count": 60,
   "outputs": [
    {
     "data": {
      "text/plain": "2520"
     },
     "execution_count": 60,
     "metadata": {},
     "output_type": "execute_result"
    }
   ],
   "source": [
    "frame_ids = data[\"frame_id\"].unique()\n",
    "frame_ids.size"
   ],
   "metadata": {
    "collapsed": false,
    "ExecuteTime": {
     "end_time": "2023-11-01T15:09:12.832966Z",
     "start_time": "2023-11-01T15:09:12.827267Z"
    }
   },
   "id": "a4e05d79e4e98783"
  },
  {
   "cell_type": "code",
   "execution_count": 61,
   "outputs": [
    {
     "data": {
      "text/plain": "2519"
     },
     "execution_count": 61,
     "metadata": {},
     "output_type": "execute_result"
    }
   ],
   "source": [
    "np.max(frame_ids)"
   ],
   "metadata": {
    "collapsed": false,
    "ExecuteTime": {
     "end_time": "2023-11-01T15:09:13.124921Z",
     "start_time": "2023-11-01T15:09:13.120372Z"
    }
   },
   "id": "934cc19780529222"
  },
  {
   "cell_type": "code",
   "execution_count": 62,
   "outputs": [],
   "source": [
    "# Very inneficient way\n",
    "# import time\n",
    "# a = time.time()\n",
    "# struc_data = np.zeros((frame_ids.size, joint_names.size, 3))\n",
    "# for id in frame_ids:\n",
    "#     frame = data[data[\"frame_id\"] == id]\n",
    "#     for i, joint in enumerate(joint_names):\n",
    "#         struc_data[id, i, :] = frame[frame[\"joint_names\"] == joint][[\"x\", \"y\", \"z\"]].values\n",
    "# print(time.time() - a)   # Something like 18 seconds\n",
    "#\n",
    "# Even more unefficient way\n",
    "# a = time.time()\n",
    "# struc_data = np.zeros((frame_ids.size, joint_names.size, 3))\n",
    "# for id in frame_ids:\n",
    "#     for i, joint in enumerate(joint_names):\n",
    "#         struc_data[id, i, :] = data[(data[\"joint_names\"] == joint) & (data[\"frame_id\"] == id)][[\"x\", \"y\", \"z\"]].values\n",
    "# print(time.time() - a)  # Something like 100 seconds"
   ],
   "metadata": {
    "collapsed": false,
    "ExecuteTime": {
     "end_time": "2023-11-01T15:09:13.277925Z",
     "start_time": "2023-11-01T15:09:13.275135Z"
    }
   },
   "id": "fb0f3d15d33ea9a7"
  },
  {
   "cell_type": "code",
   "execution_count": 63,
   "outputs": [],
   "source": [
    "# Create a multi-index using 'frame_id' and 'joint_names'\n",
    "data.set_index(['frame_id', 'joint_name'], inplace=True)\n",
    "\n",
    "# Sort the index to ensure the data is in the correct order\n",
    "data.sort_index(inplace=True)\n",
    "\n",
    "# Convert the DataFrame to a NumPy array and reshape it\n",
    "struc_data = data[['x', 'y', 'z']].values.reshape((frame_ids.size, joint_names.size, 3))"
   ],
   "metadata": {
    "collapsed": false,
    "ExecuteTime": {
     "end_time": "2023-11-01T15:09:13.461369Z",
     "start_time": "2023-11-01T15:09:13.446727Z"
    }
   },
   "id": "d3d5a9e52af99df8"
  }
 ],
 "metadata": {
  "kernelspec": {
   "display_name": "Python 3",
   "language": "python",
   "name": "python3"
  },
  "language_info": {
   "codemirror_mode": {
    "name": "ipython",
    "version": 2
   },
   "file_extension": ".py",
   "mimetype": "text/x-python",
   "name": "python",
   "nbconvert_exporter": "python",
   "pygments_lexer": "ipython2",
   "version": "2.7.6"
  }
 },
 "nbformat": 4,
 "nbformat_minor": 5
}
