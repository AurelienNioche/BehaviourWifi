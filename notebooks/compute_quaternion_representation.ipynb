{
 "cells": [
  {
   "cell_type": "code",
   "execution_count": 15,
   "id": "initial_id",
   "metadata": {
    "collapsed": true,
    "ExecuteTime": {
     "end_time": "2023-11-09T17:40:37.075582Z",
     "start_time": "2023-11-09T17:40:37.070463Z"
    }
   },
   "outputs": [],
   "source": [
    "import numpy as np\n",
    "import torch\n",
    "from pytorch3d.transforms import quaternion_invert, quaternion_apply, axis_angle_to_quaternion"
   ]
  },
  {
   "cell_type": "markdown",
   "source": [
    "# Two points only"
   ],
   "metadata": {
    "collapsed": false
   },
   "id": "cff3937e46c779ea"
  },
  {
   "cell_type": "code",
   "execution_count": 16,
   "outputs": [
    {
     "name": "stdout",
     "output_type": "stream",
     "text": [
      "A tensor([1., 5., 3.])\n",
      "B tensor([4., 3., 6.])\n",
      "A transformed into B: tensor([4., 3., 6.])\n",
      "B transformed into A: tensor([1.0000, 5.0000, 3.0000])\n"
     ]
    }
   ],
   "source": [
    "# Let's assume A and B are 3D points\n",
    "A = torch.tensor([1.0, 5.0, 3.0])\n",
    "B = torch.tensor([4.0, 3.0, 6.0])\n",
    "\n",
    "print(\"A\", A)\n",
    "print(\"B\", B)\n",
    "\n",
    "normalized_A, normalized_B = A / torch.norm(A), B / torch.norm(B)\n",
    "\n",
    "# Calculate the axis of rotation\n",
    "axis = torch.cross(normalized_A, normalized_B)\n",
    "axis = axis / torch.norm(axis)\n",
    "\n",
    "# The angle of rotation is the arccosine of the dot product of the normalized vectors\n",
    "angle_of_rotation = torch.acos(torch.dot(normalized_A, normalized_B))\n",
    "\n",
    "# The axis-angle representation is the axis of rotation scaled by the angle of rotation\n",
    "axis_angle = axis * angle_of_rotation\n",
    "\n",
    "# Convert the axis-angle representation to a quaternion\n",
    "rotation = axis_angle_to_quaternion(axis_angle)\n",
    "\n",
    "# Apply the rotation to point A\n",
    "A_rotated = quaternion_apply(rotation, A)\n",
    "\n",
    "# Compute the translation vector\n",
    "translation = B - A_rotated\n",
    "\n",
    "# Apply the translation to point A\n",
    "A_transformed = A_rotated + translation\n",
    "\n",
    "print(\"A transformed into B:\", A_transformed)\n",
    "\n",
    "# Compute the inverse rotation and translation\n",
    "inverse_rotation = quaternion_invert(rotation)\n",
    "inverse_translation = -translation\n",
    "\n",
    "# Apply the inverse transformation: from B, recover A\n",
    "B_transformed = B.clone()\n",
    "B_transformed += inverse_translation # Apply inverse translation\n",
    "B_transformed = quaternion_apply(inverse_rotation, B_transformed)  # Apply inverse rotation\n",
    "\n",
    "print(\"B transformed into A:\", B_transformed)"
   ],
   "metadata": {
    "collapsed": false,
    "ExecuteTime": {
     "end_time": "2023-11-09T17:40:37.380659Z",
     "start_time": "2023-11-09T17:40:37.359911Z"
    }
   },
   "id": "2d0d4e85edc8ff39"
  },
  {
   "cell_type": "code",
   "execution_count": 17,
   "outputs": [
    {
     "name": "stdout",
     "output_type": "stream",
     "text": [
      "torch.Size([3])\n"
     ]
    }
   ],
   "source": [
    "print(translation.shape)"
   ],
   "metadata": {
    "collapsed": false,
    "ExecuteTime": {
     "end_time": "2023-11-09T17:40:37.475013Z",
     "start_time": "2023-11-09T17:40:37.469105Z"
    }
   },
   "id": "9bdb1077d5e4e587"
  },
  {
   "cell_type": "markdown",
   "source": [
    "# Mimicking the data structure"
   ],
   "metadata": {
    "collapsed": false
   },
   "id": "a77a8d8e4256b75d"
  },
  {
   "cell_type": "code",
   "execution_count": 18,
   "outputs": [
    {
     "name": "stdout",
     "output_type": "stream",
     "text": [
      "A tensor([[5., 9., 0.],\n",
      "        [6., 8., 0.],\n",
      "        [6., 5., 4.],\n",
      "        [9., 0., 5.]])\n",
      "B tensor([[[0., 3., 7.],\n",
      "         [2., 2., 6.]],\n",
      "\n",
      "        [[4., 7., 1.],\n",
      "         [8., 8., 7.]],\n",
      "\n",
      "        [[8., 3., 4.],\n",
      "         [7., 8., 9.]],\n",
      "\n",
      "        [[5., 8., 8.],\n",
      "         [3., 1., 5.]]])\n",
      "A transformed into B: tensor([0., 3., 7.])\n",
      "A transformed into B: tensor([2., 2., 6.])\n",
      "A transformed into B: tensor([4., 7., 1.])\n",
      "A transformed into B: tensor([8., 8., 7.])\n",
      "A transformed into B: tensor([8., 3., 4.])\n",
      "A transformed into B: tensor([7., 8., 9.])\n",
      "A transformed into B: tensor([5., 8., 8.])\n",
      "A transformed into B: tensor([3., 1., 5.])\n"
     ]
    }
   ],
   "source": [
    "import numpy as np\n",
    "import torch\n",
    "from pytorch3d.transforms import quaternion_apply, axis_angle_to_quaternion\n",
    "\n",
    "n_obs = 4\n",
    "n_joints = 2\n",
    "\n",
    "all_A = torch.from_numpy(np.random.randint(0, 10, size=((n_obs, 3)))).float()\n",
    "all_B = torch.from_numpy(np.random.randint(0, 10, size=((n_obs, n_joints, 3)))).float()\n",
    "\n",
    "print(\"A\", all_A)\n",
    "print(\"B\", all_B)\n",
    "\n",
    "transformations = torch.zeros((n_obs, n_joints, 7))\n",
    "\n",
    "for i in range(n_obs):\n",
    "    A = all_A[i]\n",
    "    for j in range(n_joints):\n",
    "        B = all_B[i, j]\n",
    "        normalized_A, normalized_B = A / torch.norm(A), B / torch.norm(B)\n",
    "        \n",
    "        # Calculate the axis of rotation\n",
    "        axis = torch.cross(normalized_A, normalized_B)\n",
    "        axis = axis / torch.norm(axis)\n",
    "        \n",
    "        # The angle of rotation is the arccosine of the dot product of the normalized vectors\n",
    "        angle_of_rotation = torch.acos(torch.dot(normalized_A, normalized_B))\n",
    "        \n",
    "        # The axis-angle representation is the axis of rotation scaled by the angle of rotation\n",
    "        axis_angle = axis * angle_of_rotation\n",
    "        \n",
    "        # Convert the axis-angle representation to a quaternion\n",
    "        rotation = axis_angle_to_quaternion(axis_angle)\n",
    "        \n",
    "        # Apply the rotation to point A\n",
    "        A_rotated = quaternion_apply(rotation, A)\n",
    "        \n",
    "        # Compute the translation vector\n",
    "        translation = B - A_rotated\n",
    "        \n",
    "        # Apply the translation to point A\n",
    "        A_transformed = A_rotated + translation\n",
    "        \n",
    "        print(\"A transformed into B:\", A_transformed)\n",
    "        \n",
    "        transformations[i, j] = torch.cat((rotation, translation))"
   ],
   "metadata": {
    "collapsed": false,
    "ExecuteTime": {
     "end_time": "2023-11-09T17:40:37.729263Z",
     "start_time": "2023-11-09T17:40:37.718899Z"
    }
   },
   "id": "9ec7295d14df7315"
  },
  {
   "cell_type": "markdown",
   "source": [
    "# Vectorising the operations"
   ],
   "metadata": {
    "collapsed": false
   },
   "id": "b15d2e7b5004056d"
  },
  {
   "cell_type": "code",
   "execution_count": 19,
   "outputs": [
    {
     "name": "stdout",
     "output_type": "stream",
     "text": [
      "A transformed into B:\n",
      "tensor([[[0., 3., 7.],\n",
      "         [2., 2., 6.]],\n",
      "\n",
      "        [[4., 7., 1.],\n",
      "         [8., 8., 7.]],\n",
      "\n",
      "        [[8., 3., 4.],\n",
      "         [7., 8., 9.]],\n",
      "\n",
      "        [[5., 8., 8.],\n",
      "         [3., 1., 5.]]])\n"
     ]
    }
   ],
   "source": [
    "# Normalize A and B\n",
    "normalized_A = all_A / torch.norm(all_A, dim=-1, keepdim=True)\n",
    "normalized_B = all_B / torch.norm(all_B, dim=-1, keepdim=True)\n",
    "\n",
    "# Calculate the axis of rotation\n",
    "axis = torch.cross(normalized_A.unsqueeze(1), normalized_B)\n",
    "axis = axis / torch.norm(axis, dim=-1, keepdim=True)\n",
    "\n",
    "# The angle of rotation is the arccosine of the dot product of the normalized vectors\n",
    "angle_of_rotation = torch.acos((normalized_A.unsqueeze(1) * normalized_B).sum(-1))\n",
    "\n",
    "# The axis-angle representation is the axis of rotation scaled by the angle of rotation\n",
    "axis_angle = axis * angle_of_rotation.unsqueeze(-1)\n",
    "\n",
    "# Convert the axis-angle representation to a quaternion\n",
    "rotation = axis_angle_to_quaternion(axis_angle)\n",
    "\n",
    "# Apply the rotation to point A\n",
    "A_rotated = quaternion_apply(rotation, all_A.unsqueeze(1).expand(-1, n_joints, -1))\n",
    "\n",
    "# Compute the translation vector\n",
    "translation = all_B - A_rotated\n",
    "\n",
    "# Apply the translation to point A\n",
    "A_transformed = A_rotated + translation\n",
    "\n",
    "print(\"A transformed into B:\")\n",
    "print(A_transformed)\n",
    "\n",
    "transformations = torch.cat((rotation, translation), dim=-1)"
   ],
   "metadata": {
    "collapsed": false,
    "ExecuteTime": {
     "end_time": "2023-11-09T17:40:38.278658Z",
     "start_time": "2023-11-09T17:40:38.273858Z"
    }
   },
   "id": "46b892060d3e884"
  },
  {
   "cell_type": "code",
   "execution_count": 20,
   "outputs": [
    {
     "name": "stdout",
     "output_type": "stream",
     "text": [
      "torch.Size([4, 3])\n"
     ]
    }
   ],
   "source": [
    "print(all_A.shape)"
   ],
   "metadata": {
    "collapsed": false,
    "ExecuteTime": {
     "end_time": "2023-11-09T17:40:42.802828Z",
     "start_time": "2023-11-09T17:40:42.796651Z"
    }
   },
   "id": "72883807eb88c02b"
  },
  {
   "cell_type": "code",
   "execution_count": null,
   "outputs": [],
   "source": [],
   "metadata": {
    "collapsed": false
   },
   "id": "5b34dda538e7193f"
  }
 ],
 "metadata": {
  "kernelspec": {
   "display_name": "Python 3",
   "language": "python",
   "name": "python3"
  },
  "language_info": {
   "codemirror_mode": {
    "name": "ipython",
    "version": 2
   },
   "file_extension": ".py",
   "mimetype": "text/x-python",
   "name": "python",
   "nbconvert_exporter": "python",
   "pygments_lexer": "ipython2",
   "version": "2.7.6"
  }
 },
 "nbformat": 4,
 "nbformat_minor": 5
}
