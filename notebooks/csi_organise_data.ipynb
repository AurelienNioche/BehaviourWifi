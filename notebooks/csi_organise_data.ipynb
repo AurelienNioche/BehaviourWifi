{
 "cells": [
  {
   "cell_type": "code",
   "execution_count": 3,
   "outputs": [
    {
     "name": "stdout",
     "output_type": "stream",
     "text": [
      "The autoreload extension is already loaded. To reload it, use:\n",
      "  %reload_ext autoreload\n"
     ]
    }
   ],
   "source": [
    "%load_ext autoreload\n",
    "%autoreload 2\n",
    "import pandas as pd\n",
    "import glob"
   ],
   "metadata": {
    "collapsed": false,
    "ExecuteTime": {
     "end_time": "2023-12-04T12:20:04.644322Z",
     "start_time": "2023-12-04T12:20:04.628754Z"
    }
   },
   "id": "df3ad7d571d7c554"
  },
  {
   "cell_type": "code",
   "execution_count": 4,
   "outputs": [],
   "source": [
    "data_folder = \"../data/william-data/\" # \"/Volumes/Crucial X8/csi_depth_camera/data\""
   ],
   "metadata": {
    "collapsed": false,
    "ExecuteTime": {
     "end_time": "2023-12-04T12:20:05.406730Z",
     "start_time": "2023-12-04T12:20:05.392403Z"
    }
   },
   "id": "initial_id"
  },
  {
   "cell_type": "code",
   "execution_count": 5,
   "outputs": [],
   "source": [
    "data = dict()\n",
    "labels = dict()\n",
    "\n",
    "f_runs = glob.glob(f\"{data_folder}/run_*\")\n",
    "\n",
    "# Loop over runs\n",
    "for f_r in f_runs:\n",
    "    \n",
    "    r = f_r.split(\"/\")[-1]\n",
    "    f_pairs = glob.glob(f\"{f_r}/processed/labelled/csi/sit_stand/*\") # something like \"*/rx1_tx1\", \"*/rx1_tx2\", etc.\n",
    "    if r not in data:\n",
    "        data[r] = dict()\n",
    "    \n",
    "    # Loop over pairs\n",
    "    for f_p in f_pairs:\n",
    "        pair = f_p.split(\"/\")[-1]\n",
    "        labels = glob.glob(f\"{f_p}/*\")# something like \"%/sit\", \"*/stand\"... etc\n",
    "        \n",
    "        # Loop over labels\n",
    "        for lab in labels:\n",
    "            f_rep = glob.glob(f\"{lab}/*.csv\") # something like \"*/movement 1\", etc.\n",
    "            \n",
    "            # Loop over repetitions/movements\n",
    "            for f_rp in f_rep:\n",
    "                mvt = \"_\".join(f_rp.split(\"/\")[-1].split(\"_\")[:2])\n",
    "                if mvt not in data[r]:\n",
    "                     data[r][mvt] = dict()\n",
    "                df = pd.read_csv(f_rp)\n",
    "                df.rename(columns={'timestamps': 'timestamp'}, inplace=True)\n",
    "                df[\"datetime\"] = pd.to_datetime(df[\"timestamp\"], unit='s', utc=True)\n",
    "                # df[\"datetime\"] = df[\"timestamp\"].apply(lambda x: datetime.datetime.fromtimestamp(x))\n",
    "                data[r][mvt][pair] = df"
   ],
   "metadata": {
    "collapsed": false,
    "ExecuteTime": {
     "end_time": "2023-12-04T12:20:07.424668Z",
     "start_time": "2023-12-04T12:20:05.994381Z"
    }
   },
   "id": "1e9897f6d34ca712"
  },
  {
   "cell_type": "code",
   "execution_count": 6,
   "outputs": [
    {
     "data": {
      "text/plain": "         timestamp  amplitude     phase                            datetime\n0     1.699442e+09  -0.002479 -2.687434 2023-11-08 11:07:07.930000128+00:00\n1     1.699442e+09  -0.003003  2.648856 2023-11-08 11:07:07.930099968+00:00\n2     1.699442e+09  -0.002860 -1.896758 2023-11-08 11:07:07.930200064+00:00\n3     1.699442e+09  -0.003069  1.220491 2023-11-08 11:07:07.930299904+00:00\n4     1.699442e+09  -0.002853  6.026424    2023-11-08 11:07:07.930400+00:00\n...            ...        ...       ...                                 ...\n1995  1.699442e+09  -0.006928  8.917455 2023-11-08 11:07:11.112950016+00:00\n1996  1.699442e+09  -0.006821  0.415367    2023-11-08 11:07:11.112960+00:00\n1997  1.699442e+09  -0.006851  4.049500 2023-11-08 11:07:11.112970240+00:00\n1998  1.699442e+09  -0.006288 -1.772177 2023-11-08 11:07:11.112979968+00:00\n1999  1.699442e+09  -0.006798  9.570432 2023-11-08 11:07:11.112989952+00:00\n\n[2000 rows x 4 columns]",
      "text/html": "<div>\n<style scoped>\n    .dataframe tbody tr th:only-of-type {\n        vertical-align: middle;\n    }\n\n    .dataframe tbody tr th {\n        vertical-align: top;\n    }\n\n    .dataframe thead th {\n        text-align: right;\n    }\n</style>\n<table border=\"1\" class=\"dataframe\">\n  <thead>\n    <tr style=\"text-align: right;\">\n      <th></th>\n      <th>timestamp</th>\n      <th>amplitude</th>\n      <th>phase</th>\n      <th>datetime</th>\n    </tr>\n  </thead>\n  <tbody>\n    <tr>\n      <th>0</th>\n      <td>1.699442e+09</td>\n      <td>-0.002479</td>\n      <td>-2.687434</td>\n      <td>2023-11-08 11:07:07.930000128+00:00</td>\n    </tr>\n    <tr>\n      <th>1</th>\n      <td>1.699442e+09</td>\n      <td>-0.003003</td>\n      <td>2.648856</td>\n      <td>2023-11-08 11:07:07.930099968+00:00</td>\n    </tr>\n    <tr>\n      <th>2</th>\n      <td>1.699442e+09</td>\n      <td>-0.002860</td>\n      <td>-1.896758</td>\n      <td>2023-11-08 11:07:07.930200064+00:00</td>\n    </tr>\n    <tr>\n      <th>3</th>\n      <td>1.699442e+09</td>\n      <td>-0.003069</td>\n      <td>1.220491</td>\n      <td>2023-11-08 11:07:07.930299904+00:00</td>\n    </tr>\n    <tr>\n      <th>4</th>\n      <td>1.699442e+09</td>\n      <td>-0.002853</td>\n      <td>6.026424</td>\n      <td>2023-11-08 11:07:07.930400+00:00</td>\n    </tr>\n    <tr>\n      <th>...</th>\n      <td>...</td>\n      <td>...</td>\n      <td>...</td>\n      <td>...</td>\n    </tr>\n    <tr>\n      <th>1995</th>\n      <td>1.699442e+09</td>\n      <td>-0.006928</td>\n      <td>8.917455</td>\n      <td>2023-11-08 11:07:11.112950016+00:00</td>\n    </tr>\n    <tr>\n      <th>1996</th>\n      <td>1.699442e+09</td>\n      <td>-0.006821</td>\n      <td>0.415367</td>\n      <td>2023-11-08 11:07:11.112960+00:00</td>\n    </tr>\n    <tr>\n      <th>1997</th>\n      <td>1.699442e+09</td>\n      <td>-0.006851</td>\n      <td>4.049500</td>\n      <td>2023-11-08 11:07:11.112970240+00:00</td>\n    </tr>\n    <tr>\n      <th>1998</th>\n      <td>1.699442e+09</td>\n      <td>-0.006288</td>\n      <td>-1.772177</td>\n      <td>2023-11-08 11:07:11.112979968+00:00</td>\n    </tr>\n    <tr>\n      <th>1999</th>\n      <td>1.699442e+09</td>\n      <td>-0.006798</td>\n      <td>9.570432</td>\n      <td>2023-11-08 11:07:11.112989952+00:00</td>\n    </tr>\n  </tbody>\n</table>\n<p>2000 rows × 4 columns</p>\n</div>"
     },
     "execution_count": 6,
     "metadata": {},
     "output_type": "execute_result"
    }
   ],
   "source": [
    "data[\"run_10\"][\"movement_1\"][\"rx1_tx1\"]"
   ],
   "metadata": {
    "collapsed": false,
    "ExecuteTime": {
     "end_time": "2023-12-04T12:20:09.412898Z",
     "start_time": "2023-12-04T12:20:09.388001Z"
    }
   },
   "id": "9a3227b9d8d71424"
  }
 ],
 "metadata": {
  "kernelspec": {
   "display_name": "Python 3",
   "language": "python",
   "name": "python3"
  },
  "language_info": {
   "codemirror_mode": {
    "name": "ipython",
    "version": 2
   },
   "file_extension": ".py",
   "mimetype": "text/x-python",
   "name": "python",
   "nbconvert_exporter": "python",
   "pygments_lexer": "ipython2",
   "version": "2.7.6"
  }
 },
 "nbformat": 4,
 "nbformat_minor": 5
}
